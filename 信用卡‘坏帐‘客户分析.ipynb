{
 "cells": [
  {
   "cell_type": "code",
   "execution_count": 67,
   "metadata": {},
   "outputs": [
    {
     "data": {
      "text/html": [
       "<div>\n",
       "<style scoped>\n",
       "    .dataframe tbody tr th:only-of-type {\n",
       "        vertical-align: middle;\n",
       "    }\n",
       "\n",
       "    .dataframe tbody tr th {\n",
       "        vertical-align: top;\n",
       "    }\n",
       "\n",
       "    .dataframe thead th {\n",
       "        text-align: right;\n",
       "    }\n",
       "</style>\n",
       "<table border=\"1\" class=\"dataframe\">\n",
       "  <thead>\n",
       "    <tr style=\"text-align: right;\">\n",
       "      <th></th>\n",
       "      <th>Unnamed: 0</th>\n",
       "      <th>SeriousDlqin2yrs</th>\n",
       "      <th>RevolvingUtilizationOfUnsecuredLines</th>\n",
       "      <th>age</th>\n",
       "      <th>NumberOfTime30-59DaysPastDueNotWorse</th>\n",
       "      <th>DebtRatio</th>\n",
       "      <th>MonthlyIncome</th>\n",
       "      <th>NumberOfOpenCreditLinesAndLoans</th>\n",
       "      <th>NumberOfTimes90DaysLate</th>\n",
       "      <th>NumberRealEstateLoansOrLines</th>\n",
       "      <th>NumberOfTime60-89DaysPastDueNotWorse</th>\n",
       "      <th>NumberOfDependents</th>\n",
       "    </tr>\n",
       "  </thead>\n",
       "  <tbody>\n",
       "    <tr>\n",
       "      <th>0</th>\n",
       "      <td>1</td>\n",
       "      <td>1</td>\n",
       "      <td>0.766127</td>\n",
       "      <td>45</td>\n",
       "      <td>2</td>\n",
       "      <td>0.802982</td>\n",
       "      <td>9120.0</td>\n",
       "      <td>13</td>\n",
       "      <td>0</td>\n",
       "      <td>6</td>\n",
       "      <td>0</td>\n",
       "      <td>2.0</td>\n",
       "    </tr>\n",
       "    <tr>\n",
       "      <th>1</th>\n",
       "      <td>2</td>\n",
       "      <td>0</td>\n",
       "      <td>0.957151</td>\n",
       "      <td>40</td>\n",
       "      <td>0</td>\n",
       "      <td>0.121876</td>\n",
       "      <td>2600.0</td>\n",
       "      <td>4</td>\n",
       "      <td>0</td>\n",
       "      <td>0</td>\n",
       "      <td>0</td>\n",
       "      <td>1.0</td>\n",
       "    </tr>\n",
       "    <tr>\n",
       "      <th>2</th>\n",
       "      <td>3</td>\n",
       "      <td>0</td>\n",
       "      <td>0.658180</td>\n",
       "      <td>38</td>\n",
       "      <td>1</td>\n",
       "      <td>0.085113</td>\n",
       "      <td>3042.0</td>\n",
       "      <td>2</td>\n",
       "      <td>1</td>\n",
       "      <td>0</td>\n",
       "      <td>0</td>\n",
       "      <td>0.0</td>\n",
       "    </tr>\n",
       "    <tr>\n",
       "      <th>3</th>\n",
       "      <td>4</td>\n",
       "      <td>0</td>\n",
       "      <td>0.233810</td>\n",
       "      <td>30</td>\n",
       "      <td>0</td>\n",
       "      <td>0.036050</td>\n",
       "      <td>3300.0</td>\n",
       "      <td>5</td>\n",
       "      <td>0</td>\n",
       "      <td>0</td>\n",
       "      <td>0</td>\n",
       "      <td>0.0</td>\n",
       "    </tr>\n",
       "    <tr>\n",
       "      <th>4</th>\n",
       "      <td>5</td>\n",
       "      <td>0</td>\n",
       "      <td>0.907239</td>\n",
       "      <td>49</td>\n",
       "      <td>1</td>\n",
       "      <td>0.024926</td>\n",
       "      <td>63588.0</td>\n",
       "      <td>7</td>\n",
       "      <td>0</td>\n",
       "      <td>1</td>\n",
       "      <td>0</td>\n",
       "      <td>0.0</td>\n",
       "    </tr>\n",
       "  </tbody>\n",
       "</table>\n",
       "</div>"
      ],
      "text/plain": [
       "   Unnamed: 0  SeriousDlqin2yrs  RevolvingUtilizationOfUnsecuredLines  age  \\\n",
       "0           1                 1                              0.766127   45   \n",
       "1           2                 0                              0.957151   40   \n",
       "2           3                 0                              0.658180   38   \n",
       "3           4                 0                              0.233810   30   \n",
       "4           5                 0                              0.907239   49   \n",
       "\n",
       "   NumberOfTime30-59DaysPastDueNotWorse  DebtRatio  MonthlyIncome  \\\n",
       "0                                     2   0.802982         9120.0   \n",
       "1                                     0   0.121876         2600.0   \n",
       "2                                     1   0.085113         3042.0   \n",
       "3                                     0   0.036050         3300.0   \n",
       "4                                     1   0.024926        63588.0   \n",
       "\n",
       "   NumberOfOpenCreditLinesAndLoans  NumberOfTimes90DaysLate  \\\n",
       "0                               13                        0   \n",
       "1                                4                        0   \n",
       "2                                2                        1   \n",
       "3                                5                        0   \n",
       "4                                7                        0   \n",
       "\n",
       "   NumberRealEstateLoansOrLines  NumberOfTime60-89DaysPastDueNotWorse  \\\n",
       "0                             6                                     0   \n",
       "1                             0                                     0   \n",
       "2                             0                                     0   \n",
       "3                             0                                     0   \n",
       "4                             1                                     0   \n",
       "\n",
       "   NumberOfDependents  \n",
       "0                 2.0  \n",
       "1                 1.0  \n",
       "2                 0.0  \n",
       "3                 0.0  \n",
       "4                 0.0  "
      ]
     },
     "execution_count": 67,
     "metadata": {},
     "output_type": "execute_result"
    }
   ],
   "source": [
    "import pandas as pd\n",
    "import numpy as np\n",
    "import matplotlib.pyplot as plt\n",
    "import seaborn as sns\n",
    "%matplotlib inline\n",
    "df=pd.read_csv('cs-training.csv',engine='python')\n",
    "df.head(5)"
   ]
  },
  {
   "cell_type": "code",
   "execution_count": 223,
   "metadata": {},
   "outputs": [],
   "source": [
    "states={\"Unnamed: 0\":\"用户ID\",\n",
    "        \"SeriousDlqin2yrs\":\"好坏客户\",\n",
    "        \"RevolvingUtilizationOfUnsecuredLines\":\"可用额度比值\",\n",
    "        \"age\":\"年龄\",\n",
    "        \"NumberOfTime30-59DaysPastDueNotWorse\":\"逾期30-59天笔数\",\n",
    "        \"DebtRatio\":\"负债率\",\n",
    "        \"MonthlyIncome\":\"月收入\",\n",
    "        \"NumberOfOpenCreditLinesAndLoans\":\"信贷数量\",\n",
    "        \"NumberOfTimes90DaysLate\":\"逾期90天笔数\",\n",
    "        \"NumberRealEstateLoansOrLines\":\"固定资产贷款量\",\n",
    "        \"NumberOfTime60-89DaysPastDueNotWorse\":\"逾期60-89天笔数\",\n",
    "        \"NumberOfDependents\":\"家属数量\"}\n",
    "df.rename(columns=states,inplace=True)"
   ]
  },
  {
   "cell_type": "code",
   "execution_count": 224,
   "metadata": {},
   "outputs": [
    {
     "data": {
      "text/html": [
       "<div>\n",
       "<style scoped>\n",
       "    .dataframe tbody tr th:only-of-type {\n",
       "        vertical-align: middle;\n",
       "    }\n",
       "\n",
       "    .dataframe tbody tr th {\n",
       "        vertical-align: top;\n",
       "    }\n",
       "\n",
       "    .dataframe thead th {\n",
       "        text-align: right;\n",
       "    }\n",
       "</style>\n",
       "<table border=\"1\" class=\"dataframe\">\n",
       "  <thead>\n",
       "    <tr style=\"text-align: right;\">\n",
       "      <th></th>\n",
       "      <th>用户ID</th>\n",
       "      <th>好坏客户</th>\n",
       "      <th>可用额度比值</th>\n",
       "      <th>年龄</th>\n",
       "      <th>逾期30-59天笔数</th>\n",
       "      <th>负债率</th>\n",
       "      <th>月收入</th>\n",
       "      <th>信贷数量</th>\n",
       "      <th>逾期90天笔数</th>\n",
       "      <th>固定资产贷款量</th>\n",
       "      <th>逾期60-89天笔数</th>\n",
       "      <th>家属数量</th>\n",
       "    </tr>\n",
       "  </thead>\n",
       "  <tbody>\n",
       "    <tr>\n",
       "      <th>0</th>\n",
       "      <td>1</td>\n",
       "      <td>1</td>\n",
       "      <td>0.766127</td>\n",
       "      <td>45</td>\n",
       "      <td>2</td>\n",
       "      <td>0.802982</td>\n",
       "      <td>9120.0</td>\n",
       "      <td>13</td>\n",
       "      <td>0</td>\n",
       "      <td>6</td>\n",
       "      <td>0</td>\n",
       "      <td>2.0</td>\n",
       "    </tr>\n",
       "    <tr>\n",
       "      <th>1</th>\n",
       "      <td>2</td>\n",
       "      <td>0</td>\n",
       "      <td>0.957151</td>\n",
       "      <td>40</td>\n",
       "      <td>0</td>\n",
       "      <td>0.121876</td>\n",
       "      <td>2600.0</td>\n",
       "      <td>4</td>\n",
       "      <td>0</td>\n",
       "      <td>0</td>\n",
       "      <td>0</td>\n",
       "      <td>1.0</td>\n",
       "    </tr>\n",
       "    <tr>\n",
       "      <th>2</th>\n",
       "      <td>3</td>\n",
       "      <td>0</td>\n",
       "      <td>0.658180</td>\n",
       "      <td>38</td>\n",
       "      <td>1</td>\n",
       "      <td>0.085113</td>\n",
       "      <td>3042.0</td>\n",
       "      <td>2</td>\n",
       "      <td>1</td>\n",
       "      <td>0</td>\n",
       "      <td>0</td>\n",
       "      <td>0.0</td>\n",
       "    </tr>\n",
       "    <tr>\n",
       "      <th>3</th>\n",
       "      <td>4</td>\n",
       "      <td>0</td>\n",
       "      <td>0.233810</td>\n",
       "      <td>30</td>\n",
       "      <td>0</td>\n",
       "      <td>0.036050</td>\n",
       "      <td>3300.0</td>\n",
       "      <td>5</td>\n",
       "      <td>0</td>\n",
       "      <td>0</td>\n",
       "      <td>0</td>\n",
       "      <td>0.0</td>\n",
       "    </tr>\n",
       "    <tr>\n",
       "      <th>4</th>\n",
       "      <td>5</td>\n",
       "      <td>0</td>\n",
       "      <td>0.907239</td>\n",
       "      <td>49</td>\n",
       "      <td>1</td>\n",
       "      <td>0.024926</td>\n",
       "      <td>63588.0</td>\n",
       "      <td>7</td>\n",
       "      <td>0</td>\n",
       "      <td>1</td>\n",
       "      <td>0</td>\n",
       "      <td>0.0</td>\n",
       "    </tr>\n",
       "  </tbody>\n",
       "</table>\n",
       "</div>"
      ],
      "text/plain": [
       "   用户ID  好坏客户    可用额度比值  年龄  逾期30-59天笔数       负债率      月收入  信贷数量  逾期90天笔数  \\\n",
       "0     1     1  0.766127  45           2  0.802982   9120.0    13        0   \n",
       "1     2     0  0.957151  40           0  0.121876   2600.0     4        0   \n",
       "2     3     0  0.658180  38           1  0.085113   3042.0     2        1   \n",
       "3     4     0  0.233810  30           0  0.036050   3300.0     5        0   \n",
       "4     5     0  0.907239  49           1  0.024926  63588.0     7        0   \n",
       "\n",
       "   固定资产贷款量  逾期60-89天笔数  家属数量  \n",
       "0        6           0   2.0  \n",
       "1        0           0   1.0  \n",
       "2        0           0   0.0  \n",
       "3        0           0   0.0  \n",
       "4        1           0   0.0  "
      ]
     },
     "execution_count": 224,
     "metadata": {},
     "output_type": "execute_result"
    }
   ],
   "source": [
    "df.head(5)"
   ]
  },
  {
   "cell_type": "code",
   "execution_count": 225,
   "metadata": {},
   "outputs": [
    {
     "name": "stdout",
     "output_type": "stream",
     "text": [
      "<class 'pandas.core.frame.DataFrame'>\n",
      "RangeIndex: 150000 entries, 0 to 149999\n",
      "Data columns (total 12 columns):\n",
      "用户ID          150000 non-null int64\n",
      "好坏客户          150000 non-null int64\n",
      "可用额度比值        150000 non-null float64\n",
      "年龄            150000 non-null int64\n",
      "逾期30-59天笔数    150000 non-null int64\n",
      "负债率           150000 non-null float64\n",
      "月收入           150000 non-null float64\n",
      "信贷数量          150000 non-null int64\n",
      "逾期90天笔数       150000 non-null int64\n",
      "固定资产贷款量       150000 non-null int64\n",
      "逾期60-89天笔数    150000 non-null int64\n",
      "家属数量          146076 non-null float64\n",
      "dtypes: float64(4), int64(8)\n",
      "memory usage: 13.7 MB\n"
     ]
    },
    {
     "data": {
      "text/plain": [
       "150000"
      ]
     },
     "execution_count": 225,
     "metadata": {},
     "output_type": "execute_result"
    }
   ],
   "source": [
    "df.info()\n",
    "len(df)"
   ]
  },
  {
   "cell_type": "code",
   "execution_count": 245,
   "metadata": {},
   "outputs": [
    {
     "name": "stdout",
     "output_type": "stream",
     "text": [
      "月收入缺失比：100.00%\n",
      "家属数量：97.38%\n"
     ]
    }
   ],
   "source": [
    "print('月收入缺失比：{:.2%}'.format(df['月收入'].notnull().sum()/len(df)))\n",
    "print('家属数量：{:.2%}'.format(df['家属数量'].notnull().sum()/len(df)))"
   ]
  },
  {
   "cell_type": "code",
   "execution_count": 246,
   "metadata": {},
   "outputs": [
    {
     "name": "stderr",
     "output_type": "stream",
     "text": [
      "D:\\Users\\lqs\\Anaconda3\\lib\\site-packages\\scipy\\stats\\stats.py:1713: FutureWarning: Using a non-tuple sequence for multidimensional indexing is deprecated; use `arr[tuple(seq)]` instead of `arr[seq]`. In the future this will be interpreted as an array index, `arr[np.array(seq)]`, which will result either in an error or a different result.\n",
      "  return np.add.reduce(sorted[indexer] * weights, axis=axis) / sumval\n"
     ]
    },
    {
     "data": {
      "text/plain": [
       "Text(0.5,1,'月收入分布')"
      ]
     },
     "execution_count": 246,
     "metadata": {},
     "output_type": "execute_result"
    },
    {
     "data": {
      "image/png": "[encoded data removed]",
      "text/plain": [
       "<Figure size 432x288 with 1 Axes>"
      ]
     },
     "metadata": {
      "needs_background": "light"
     },
     "output_type": "display_data"
    }
   ],
   "source": [
    "g=sns.kdeplot(df['月收入'],color='red',shade=True)\n",
    "g.set_xlabel('月收入')\n",
    "g.set_ylabel('频数')\n",
    "plt.title('月收入分布',size=20)\n"
   ]
  },
  {
   "cell_type": "code",
   "execution_count": 247,
   "metadata": {},
   "outputs": [
    {
     "data": {
      "text/html": [
       "<div>\n",
       "<style scoped>\n",
       "    .dataframe tbody tr th:only-of-type {\n",
       "        vertical-align: middle;\n",
       "    }\n",
       "\n",
       "    .dataframe tbody tr th {\n",
       "        vertical-align: top;\n",
       "    }\n",
       "\n",
       "    .dataframe thead th {\n",
       "        text-align: right;\n",
       "    }\n",
       "</style>\n",
       "<table border=\"1\" class=\"dataframe\">\n",
       "  <thead>\n",
       "    <tr style=\"text-align: right;\">\n",
       "      <th></th>\n",
       "      <th>用户ID</th>\n",
       "      <th>好坏客户</th>\n",
       "      <th>可用额度比值</th>\n",
       "      <th>年龄</th>\n",
       "      <th>逾期30-59天笔数</th>\n",
       "      <th>负债率</th>\n",
       "      <th>月收入</th>\n",
       "      <th>信贷数量</th>\n",
       "      <th>逾期90天笔数</th>\n",
       "      <th>固定资产贷款量</th>\n",
       "      <th>逾期60-89天笔数</th>\n",
       "      <th>家属数量</th>\n",
       "    </tr>\n",
       "  </thead>\n",
       "  <tbody>\n",
       "    <tr>\n",
       "      <th>count</th>\n",
       "      <td>150000.000000</td>\n",
       "      <td>150000.000000</td>\n",
       "      <td>150000.000000</td>\n",
       "      <td>150000.000000</td>\n",
       "      <td>150000.000000</td>\n",
       "      <td>150000.000000</td>\n",
       "      <td>1.500000e+05</td>\n",
       "      <td>150000.000000</td>\n",
       "      <td>150000.000000</td>\n",
       "      <td>150000.000000</td>\n",
       "      <td>150000.000000</td>\n",
       "      <td>146076.000000</td>\n",
       "    </tr>\n",
       "    <tr>\n",
       "      <th>mean</th>\n",
       "      <td>75000.500000</td>\n",
       "      <td>0.066840</td>\n",
       "      <td>6.048438</td>\n",
       "      <td>52.295207</td>\n",
       "      <td>0.421033</td>\n",
       "      <td>353.005076</td>\n",
       "      <td>6.670221e+03</td>\n",
       "      <td>8.452760</td>\n",
       "      <td>0.265973</td>\n",
       "      <td>1.018240</td>\n",
       "      <td>0.240387</td>\n",
       "      <td>0.757222</td>\n",
       "    </tr>\n",
       "    <tr>\n",
       "      <th>std</th>\n",
       "      <td>43301.414527</td>\n",
       "      <td>0.249746</td>\n",
       "      <td>249.755371</td>\n",
       "      <td>14.771866</td>\n",
       "      <td>4.192781</td>\n",
       "      <td>2037.818523</td>\n",
       "      <td>1.288045e+04</td>\n",
       "      <td>5.145951</td>\n",
       "      <td>4.169304</td>\n",
       "      <td>1.129771</td>\n",
       "      <td>4.155179</td>\n",
       "      <td>1.115086</td>\n",
       "    </tr>\n",
       "    <tr>\n",
       "      <th>min</th>\n",
       "      <td>1.000000</td>\n",
       "      <td>0.000000</td>\n",
       "      <td>0.000000</td>\n",
       "      <td>0.000000</td>\n",
       "      <td>0.000000</td>\n",
       "      <td>0.000000</td>\n",
       "      <td>0.000000e+00</td>\n",
       "      <td>0.000000</td>\n",
       "      <td>0.000000</td>\n",
       "      <td>0.000000</td>\n",
       "      <td>0.000000</td>\n",
       "      <td>0.000000</td>\n",
       "    </tr>\n",
       "    <tr>\n",
       "      <th>25%</th>\n",
       "      <td>37500.750000</td>\n",
       "      <td>0.000000</td>\n",
       "      <td>0.029867</td>\n",
       "      <td>41.000000</td>\n",
       "      <td>0.000000</td>\n",
       "      <td>0.175074</td>\n",
       "      <td>3.903000e+03</td>\n",
       "      <td>5.000000</td>\n",
       "      <td>0.000000</td>\n",
       "      <td>0.000000</td>\n",
       "      <td>0.000000</td>\n",
       "      <td>0.000000</td>\n",
       "    </tr>\n",
       "    <tr>\n",
       "      <th>50%</th>\n",
       "      <td>75000.500000</td>\n",
       "      <td>0.000000</td>\n",
       "      <td>0.154181</td>\n",
       "      <td>52.000000</td>\n",
       "      <td>0.000000</td>\n",
       "      <td>0.366508</td>\n",
       "      <td>6.600000e+03</td>\n",
       "      <td>8.000000</td>\n",
       "      <td>0.000000</td>\n",
       "      <td>1.000000</td>\n",
       "      <td>0.000000</td>\n",
       "      <td>0.000000</td>\n",
       "    </tr>\n",
       "    <tr>\n",
       "      <th>75%</th>\n",
       "      <td>112500.250000</td>\n",
       "      <td>0.000000</td>\n",
       "      <td>0.559046</td>\n",
       "      <td>63.000000</td>\n",
       "      <td>0.000000</td>\n",
       "      <td>0.868254</td>\n",
       "      <td>7.400000e+03</td>\n",
       "      <td>11.000000</td>\n",
       "      <td>0.000000</td>\n",
       "      <td>2.000000</td>\n",
       "      <td>0.000000</td>\n",
       "      <td>1.000000</td>\n",
       "    </tr>\n",
       "    <tr>\n",
       "      <th>max</th>\n",
       "      <td>150000.000000</td>\n",
       "      <td>1.000000</td>\n",
       "      <td>50708.000000</td>\n",
       "      <td>109.000000</td>\n",
       "      <td>98.000000</td>\n",
       "      <td>329664.000000</td>\n",
       "      <td>3.008750e+06</td>\n",
       "      <td>58.000000</td>\n",
       "      <td>98.000000</td>\n",
       "      <td>54.000000</td>\n",
       "      <td>98.000000</td>\n",
       "      <td>20.000000</td>\n",
       "    </tr>\n",
       "  </tbody>\n",
       "</table>\n",
       "</div>"
      ],
      "text/plain": [
       "                用户ID           好坏客户         可用额度比值             年龄  \\\n",
       "count  150000.000000  150000.000000  150000.000000  150000.000000   \n",
       "mean    75000.500000       0.066840       6.048438      52.295207   \n",
       "std     43301.414527       0.249746     249.755371      14.771866   \n",
       "min         1.000000       0.000000       0.000000       0.000000   \n",
       "25%     37500.750000       0.000000       0.029867      41.000000   \n",
       "50%     75000.500000       0.000000       0.154181      52.000000   \n",
       "75%    112500.250000       0.000000       0.559046      63.000000   \n",
       "max    150000.000000       1.000000   50708.000000     109.000000   \n",
       "\n",
       "          逾期30-59天笔数            负债率           月收入           信贷数量  \\\n",
       "count  150000.000000  150000.000000  1.500000e+05  150000.000000   \n",
       "mean        0.421033     353.005076  6.670221e+03       8.452760   \n",
       "std         4.192781    2037.818523  1.288045e+04       5.145951   \n",
       "min         0.000000       0.000000  0.000000e+00       0.000000   \n",
       "25%         0.000000       0.175074  3.903000e+03       5.000000   \n",
       "50%         0.000000       0.366508  6.600000e+03       8.000000   \n",
       "75%         0.000000       0.868254  7.400000e+03      11.000000   \n",
       "max        98.000000  329664.000000  3.008750e+06      58.000000   \n",
       "\n",
       "             逾期90天笔数        固定资产贷款量     逾期60-89天笔数           家属数量  \n",
       "count  150000.000000  150000.000000  150000.000000  146076.000000  \n",
       "mean        0.265973       1.018240       0.240387       0.757222  \n",
       "std         4.169304       1.129771       4.155179       1.115086  \n",
       "min         0.000000       0.000000       0.000000       0.000000  \n",
       "25%         0.000000       0.000000       0.000000       0.000000  \n",
       "50%         0.000000       1.000000       0.000000       0.000000  \n",
       "75%         0.000000       2.000000       0.000000       1.000000  \n",
       "max        98.000000      54.000000      98.000000      20.000000  "
      ]
     },
     "execution_count": 247,
     "metadata": {},
     "output_type": "execute_result"
    }
   ],
   "source": [
    "df.describe()"
   ]
  },
  {
   "cell_type": "code",
   "execution_count": 248,
   "metadata": {},
   "outputs": [
    {
     "data": {
      "text/plain": [
       "1         2600.0\n",
       "2         3042.0\n",
       "3         3300.0\n",
       "5         3500.0\n",
       "7         3500.0\n",
       "10        2500.0\n",
       "14           0.0\n",
       "18        3280.0\n",
       "19         333.0\n",
       "21        3000.0\n",
       "22        2500.0\n",
       "24        2416.0\n",
       "25        4676.0\n",
       "27        2500.0\n",
       "28        3400.0\n",
       "30        4200.0\n",
       "31         750.0\n",
       "34        2230.0\n",
       "36        4000.0\n",
       "37        3400.0\n",
       "38        1000.0\n",
       "39        3500.0\n",
       "43        3661.0\n",
       "44           1.0\n",
       "46        3133.0\n",
       "47        1937.0\n",
       "50           0.0\n",
       "51        3000.0\n",
       "54        2231.0\n",
       "57        3216.0\n",
       "           ...  \n",
       "149908    4200.0\n",
       "149909    1732.0\n",
       "149910    4800.0\n",
       "149911    3348.0\n",
       "149913    2155.0\n",
       "149917    4100.0\n",
       "149919    3100.0\n",
       "149929    2500.0\n",
       "149930    3633.0\n",
       "149934    2000.0\n",
       "149936    2423.0\n",
       "149938    2571.0\n",
       "149941    3700.0\n",
       "149949    2904.0\n",
       "149950       0.0\n",
       "149951    3100.0\n",
       "149954     401.0\n",
       "149956    3500.0\n",
       "149957    3500.0\n",
       "149961    1125.0\n",
       "149962    2944.0\n",
       "149968    4600.0\n",
       "149978    2500.0\n",
       "149982    2760.0\n",
       "149985    1950.0\n",
       "149987    3249.0\n",
       "149990    4335.0\n",
       "149993     820.0\n",
       "149994    3400.0\n",
       "149995    2100.0\n",
       "Name: 月收入, Length: 53102, dtype: float64"
      ]
     },
     "execution_count": 248,
     "metadata": {},
     "output_type": "execute_result"
    }
   ],
   "source": [
    "df['月收入'][df['月收入']<5000]"
   ]
  },
  {
   "cell_type": "code",
   "execution_count": 249,
   "metadata": {},
   "outputs": [],
   "source": [
    "df=df.fillna({\"月收入\":df[\"月收入\"].mean()})"
   ]
  },
  {
   "cell_type": "code",
   "execution_count": 250,
   "metadata": {},
   "outputs": [
    {
     "data": {
      "text/plain": [
       "(146076, 12)"
      ]
     },
     "execution_count": 250,
     "metadata": {},
     "output_type": "execute_result"
    }
   ],
   "source": [
    "df1=df.dropna()\n",
    "df1.shape"
   ]
  },
  {
   "cell_type": "code",
   "execution_count": 251,
   "metadata": {},
   "outputs": [
    {
     "data": {
      "text/plain": [
       "[Text(0,0,'可用额度比值'), Text(0,0,'负债率')]"
      ]
     },
     "execution_count": 251,
     "metadata": {},
     "output_type": "execute_result"
    },
    {
     "data": {
      "image/png": "[encoded data removed]",
      "text/plain": [
       "<Figure size 432x288 with 1 Axes>"
      ]
     },
     "metadata": {
      "needs_background": "light"
     },
     "output_type": "display_data"
    }
   ],
   "source": [
    "x1=df1[\"可用额度比值\"]\n",
    "x2=df1[\"负债率\"]\n",
    "fig=plt.figure(1)\n",
    "ax=fig.add_subplot(111)\n",
    "ax.boxplot([x1,x2])\n",
    "ax.set_xticklabels([\"可用额度比值\",\"负债率\"])\n",
    "#可用额度的比值是该客户的可用额度比总额度的比值，\n",
    "#所以值不应该大于1，大于1的部分进行删除。"
   ]
  },
  {
   "cell_type": "code",
   "execution_count": 252,
   "metadata": {},
   "outputs": [],
   "source": [
    "plt.rcParams['font.sans-serif']='SimHei'"
   ]
  },
  {
   "cell_type": "code",
   "execution_count": 253,
   "metadata": {},
   "outputs": [
    {
     "data": {
      "text/plain": [
       "[Text(0,0,'年')]"
      ]
     },
     "execution_count": 253,
     "metadata": {},
     "output_type": "execute_result"
    },
    {
     "data": {
      "image/png": "[encoded data removed]",
      "text/plain": [
       "<Figure size 432x288 with 1 Axes>"
      ]
     },
     "metadata": {
      "needs_background": "light"
     },
     "output_type": "display_data"
    }
   ],
   "source": [
    "plt.rcParams[\"font.sans-serif\"]='SimHei'\n",
    "x3=df1[\"年龄\"]\n",
    "fig=plt.figure(2)\n",
    "ax1=fig.add_subplot(111)\n",
    "ax1.boxplot(x3)\n",
    "ax1.set_xticklabels(\"年龄\")"
   ]
  },
  {
   "cell_type": "code",
   "execution_count": 254,
   "metadata": {},
   "outputs": [
    {
     "data": {
      "text/plain": [
       "[Text(0,0,'逾期30-59天笔数'), Text(0,0,'逾期60-89天笔数'), Text(0,0,'逾期90天笔数')]"
      ]
     },
     "execution_count": 254,
     "metadata": {},
     "output_type": "execute_result"
    },
    {
     "data": {
      "image/png": "[encoded data removed]",
      "text/plain": [
       "<Figure size 432x288 with 1 Axes>"
      ]
     },
     "metadata": {
      "needs_background": "light"
     },
     "output_type": "display_data"
    }
   ],
   "source": [
    "x4=df1[\"逾期30-59天笔数\"]\n",
    "x5=df1[\"逾期60-89天笔数\"]\n",
    "x6=df1[\"逾期90天笔数\"]\n",
    "fig=plt.figure(3)\n",
    "ax=fig.add_subplot(111)\n",
    "ax.boxplot([x4,x5,x6])\n",
    "ax.set_xticklabels([\"逾期30-59天笔数\",\"逾期60-89天笔数\",\"逾期90天笔数\"])"
   ]
  },
  {
   "cell_type": "code",
   "execution_count": 255,
   "metadata": {},
   "outputs": [
    {
     "data": {
      "text/plain": [
       "[Text(0,0,'信贷数量'), Text(0,0,'固定资产贷款量')]"
      ]
     },
     "execution_count": 255,
     "metadata": {},
     "output_type": "execute_result"
    },
    {
     "data": {
      "image/png": "[encoded data removed]",
      "text/plain": [
       "<Figure size 432x288 with 1 Axes>"
      ]
     },
     "metadata": {
      "needs_background": "light"
     },
     "output_type": "display_data"
    }
   ],
   "source": [
    "x7=df1[\"信贷数量\"]\n",
    "x8=df1[\"固定资产贷款量\"]\n",
    "fig=plt.figure(4)\n",
    "ax=fig.add_subplot(111)\n",
    "ax.boxplot([x7,x8])\n",
    "ax.set_xticklabels([\"信贷数量\",\"固定资产贷款量\"])"
   ]
  },
  {
   "cell_type": "code",
   "execution_count": 258,
   "metadata": {},
   "outputs": [
    {
     "data": {
      "text/plain": [
       "Index(['用户ID', '好坏客户', '可用额度比值', '年龄', '逾期30-59天笔数', '负债率', '月收入', '信贷数量',\n",
       "       '逾期90天笔数', '固定资产贷款量', '逾期60-89天笔数', '家属数量'],\n",
       "      dtype='object')"
      ]
     },
     "execution_count": 258,
     "metadata": {},
     "output_type": "execute_result"
    }
   ],
   "source": [
    "#异常值过滤\n",
    "df1=df1[df1['可用额度比值']<1]\n",
    "df1=df1[df1['年龄']>0]\n",
    "df1=df1[df1['逾期30-59天笔数']<80]\n",
    "df1=df1[df1['逾期60-89天笔数']<80]\n",
    "df1=df1[df1['逾期90天笔数']<80]\n",
    "df1=df1[df1['固定资产贷款量']<50]\n",
    "df1.columns\n"
   ]
  },
  {
   "cell_type": "code",
   "execution_count": 259,
   "metadata": {},
   "outputs": [
    {
     "data": {
      "text/plain": [
       "(142559, 12)"
      ]
     },
     "execution_count": 259,
     "metadata": {},
     "output_type": "execute_result"
    }
   ],
   "source": [
    "df1.shape\n"
   ]
  },
  {
   "cell_type": "code",
   "execution_count": null,
   "metadata": {},
   "outputs": [],
   "source": []
  },
  {
   "cell_type": "code",
   "execution_count": 260,
   "metadata": {},
   "outputs": [
    {
     "data": {
      "text/plain": [
       "年龄\n",
       "(20.914, 38.2]    26984\n",
       "(38.2, 55.4]      56660\n",
       "(55.4, 72.6]      45709\n",
       "(72.6, 89.8]      12640\n",
       "(89.8, 107.0]       566\n",
       "Name: 好坏客户, dtype: int64"
      ]
     },
     "execution_count": 260,
     "metadata": {},
     "output_type": "execute_result"
    }
   ],
   "source": [
    "#单变量分析\n",
    "age_cut=pd.cut(df1['年龄'],5)\n",
    "age_cut_group=df1['好坏客户'].groupby(age_cut).count()\n",
    "age_cut_group"
   ]
  },
  {
   "cell_type": "code",
   "execution_count": 261,
   "metadata": {},
   "outputs": [],
   "source": [
    "age_cut_grouped1=df1['好坏客户'].groupby(age_cut).sum()"
   ]
  },
  {
   "cell_type": "code",
   "execution_count": 262,
   "metadata": {},
   "outputs": [
    {
     "data": {
      "text/plain": [
       "年龄\n",
       "(20.914, 38.2]    2478\n",
       "(38.2, 55.4]      4067\n",
       "(55.4, 72.6]      1664\n",
       "(72.6, 89.8]       273\n",
       "(89.8, 107.0]       12\n",
       "Name: 好坏客户, dtype: int64"
      ]
     },
     "execution_count": 262,
     "metadata": {},
     "output_type": "execute_result"
    }
   ],
   "source": [
    "age_cut_grouped1"
   ]
  },
  {
   "cell_type": "code",
   "execution_count": 263,
   "metadata": {},
   "outputs": [
    {
     "data": {
      "text/html": [
       "<div>\n",
       "<style scoped>\n",
       "    .dataframe tbody tr th:only-of-type {\n",
       "        vertical-align: middle;\n",
       "    }\n",
       "\n",
       "    .dataframe tbody tr th {\n",
       "        vertical-align: top;\n",
       "    }\n",
       "\n",
       "    .dataframe thead th {\n",
       "        text-align: right;\n",
       "    }\n",
       "</style>\n",
       "<table border=\"1\" class=\"dataframe\">\n",
       "  <thead>\n",
       "    <tr style=\"text-align: right;\">\n",
       "      <th></th>\n",
       "      <th>总客户数</th>\n",
       "      <th>坏客户数</th>\n",
       "    </tr>\n",
       "    <tr>\n",
       "      <th>年龄</th>\n",
       "      <th></th>\n",
       "      <th></th>\n",
       "    </tr>\n",
       "  </thead>\n",
       "  <tbody>\n",
       "    <tr>\n",
       "      <th>(20.914, 38.2]</th>\n",
       "      <td>26984</td>\n",
       "      <td>2478</td>\n",
       "    </tr>\n",
       "    <tr>\n",
       "      <th>(38.2, 55.4]</th>\n",
       "      <td>56660</td>\n",
       "      <td>4067</td>\n",
       "    </tr>\n",
       "    <tr>\n",
       "      <th>(55.4, 72.6]</th>\n",
       "      <td>45709</td>\n",
       "      <td>1664</td>\n",
       "    </tr>\n",
       "    <tr>\n",
       "      <th>(72.6, 89.8]</th>\n",
       "      <td>12640</td>\n",
       "      <td>273</td>\n",
       "    </tr>\n",
       "    <tr>\n",
       "      <th>(89.8, 107.0]</th>\n",
       "      <td>566</td>\n",
       "      <td>12</td>\n",
       "    </tr>\n",
       "  </tbody>\n",
       "</table>\n",
       "</div>"
      ],
      "text/plain": [
       "                 总客户数  坏客户数\n",
       "年龄                         \n",
       "(20.914, 38.2]  26984  2478\n",
       "(38.2, 55.4]    56660  4067\n",
       "(55.4, 72.6]    45709  1664\n",
       "(72.6, 89.8]    12640   273\n",
       "(89.8, 107.0]     566    12"
      ]
     },
     "execution_count": 263,
     "metadata": {},
     "output_type": "execute_result"
    }
   ],
   "source": [
    "df2=pd.merge(pd.DataFrame(age_cut_group),pd.DataFrame(age_cut_grouped1),left_index=True,right_index=True)\n",
    "df2.rename(columns={'好坏客户_x':'总客户数','好坏客户_y':'坏客户数'},inplace=True)\n",
    "df2"
   ]
  },
  {
   "cell_type": "code",
   "execution_count": 264,
   "metadata": {},
   "outputs": [
    {
     "data": {
      "text/html": [
       "<div>\n",
       "<style scoped>\n",
       "    .dataframe tbody tr th:only-of-type {\n",
       "        vertical-align: middle;\n",
       "    }\n",
       "\n",
       "    .dataframe tbody tr th {\n",
       "        vertical-align: top;\n",
       "    }\n",
       "\n",
       "    .dataframe thead th {\n",
       "        text-align: right;\n",
       "    }\n",
       "</style>\n",
       "<table border=\"1\" class=\"dataframe\">\n",
       "  <thead>\n",
       "    <tr style=\"text-align: right;\">\n",
       "      <th></th>\n",
       "      <th>总客户数</th>\n",
       "      <th>坏客户数</th>\n",
       "      <th>好客户数</th>\n",
       "    </tr>\n",
       "    <tr>\n",
       "      <th>年龄</th>\n",
       "      <th></th>\n",
       "      <th></th>\n",
       "      <th></th>\n",
       "    </tr>\n",
       "  </thead>\n",
       "  <tbody>\n",
       "    <tr>\n",
       "      <th>(20.914, 38.2]</th>\n",
       "      <td>26984</td>\n",
       "      <td>2478</td>\n",
       "      <td>24506</td>\n",
       "    </tr>\n",
       "    <tr>\n",
       "      <th>(38.2, 55.4]</th>\n",
       "      <td>56660</td>\n",
       "      <td>4067</td>\n",
       "      <td>52593</td>\n",
       "    </tr>\n",
       "    <tr>\n",
       "      <th>(55.4, 72.6]</th>\n",
       "      <td>45709</td>\n",
       "      <td>1664</td>\n",
       "      <td>44045</td>\n",
       "    </tr>\n",
       "    <tr>\n",
       "      <th>(72.6, 89.8]</th>\n",
       "      <td>12640</td>\n",
       "      <td>273</td>\n",
       "      <td>12367</td>\n",
       "    </tr>\n",
       "    <tr>\n",
       "      <th>(89.8, 107.0]</th>\n",
       "      <td>566</td>\n",
       "      <td>12</td>\n",
       "      <td>554</td>\n",
       "    </tr>\n",
       "  </tbody>\n",
       "</table>\n",
       "</div>"
      ],
      "text/plain": [
       "                 总客户数  坏客户数   好客户数\n",
       "年龄                                \n",
       "(20.914, 38.2]  26984  2478  24506\n",
       "(38.2, 55.4]    56660  4067  52593\n",
       "(55.4, 72.6]    45709  1664  44045\n",
       "(72.6, 89.8]    12640   273  12367\n",
       "(89.8, 107.0]     566    12    554"
      ]
     },
     "execution_count": 264,
     "metadata": {},
     "output_type": "execute_result"
    }
   ],
   "source": [
    "df2.insert(2,\"好客户数\",df2[\"总客户数\"]-df2[\"坏客户数\"])\n",
    "df2"
   ]
  },
  {
   "cell_type": "code",
   "execution_count": 265,
   "metadata": {},
   "outputs": [
    {
     "data": {
      "text/html": [
       "<div>\n",
       "<style scoped>\n",
       "    .dataframe tbody tr th:only-of-type {\n",
       "        vertical-align: middle;\n",
       "    }\n",
       "\n",
       "    .dataframe tbody tr th {\n",
       "        vertical-align: top;\n",
       "    }\n",
       "\n",
       "    .dataframe thead th {\n",
       "        text-align: right;\n",
       "    }\n",
       "</style>\n",
       "<table border=\"1\" class=\"dataframe\">\n",
       "  <thead>\n",
       "    <tr style=\"text-align: right;\">\n",
       "      <th></th>\n",
       "      <th>总客户数</th>\n",
       "      <th>坏客户数</th>\n",
       "      <th>坏客户占比</th>\n",
       "      <th>好客户数</th>\n",
       "    </tr>\n",
       "    <tr>\n",
       "      <th>年龄</th>\n",
       "      <th></th>\n",
       "      <th></th>\n",
       "      <th></th>\n",
       "      <th></th>\n",
       "    </tr>\n",
       "  </thead>\n",
       "  <tbody>\n",
       "    <tr>\n",
       "      <th>(20.914, 38.2]</th>\n",
       "      <td>26984</td>\n",
       "      <td>2478</td>\n",
       "      <td>0.091832</td>\n",
       "      <td>24506</td>\n",
       "    </tr>\n",
       "    <tr>\n",
       "      <th>(38.2, 55.4]</th>\n",
       "      <td>56660</td>\n",
       "      <td>4067</td>\n",
       "      <td>0.071779</td>\n",
       "      <td>52593</td>\n",
       "    </tr>\n",
       "    <tr>\n",
       "      <th>(55.4, 72.6]</th>\n",
       "      <td>45709</td>\n",
       "      <td>1664</td>\n",
       "      <td>0.036404</td>\n",
       "      <td>44045</td>\n",
       "    </tr>\n",
       "    <tr>\n",
       "      <th>(72.6, 89.8]</th>\n",
       "      <td>12640</td>\n",
       "      <td>273</td>\n",
       "      <td>0.021598</td>\n",
       "      <td>12367</td>\n",
       "    </tr>\n",
       "    <tr>\n",
       "      <th>(89.8, 107.0]</th>\n",
       "      <td>566</td>\n",
       "      <td>12</td>\n",
       "      <td>0.021201</td>\n",
       "      <td>554</td>\n",
       "    </tr>\n",
       "  </tbody>\n",
       "</table>\n",
       "</div>"
      ],
      "text/plain": [
       "                 总客户数  坏客户数     坏客户占比   好客户数\n",
       "年龄                                          \n",
       "(20.914, 38.2]  26984  2478  0.091832  24506\n",
       "(38.2, 55.4]    56660  4067  0.071779  52593\n",
       "(55.4, 72.6]    45709  1664  0.036404  44045\n",
       "(72.6, 89.8]    12640   273  0.021598  12367\n",
       "(89.8, 107.0]     566    12  0.021201    554"
      ]
     },
     "execution_count": 265,
     "metadata": {},
     "output_type": "execute_result"
    }
   ],
   "source": [
    "df2.insert(2,\"坏客户占比\",df2[\"坏客户数\"]/df2[\"总客户数\"])\n",
    "df2"
   ]
  },
  {
   "cell_type": "code",
   "execution_count": 266,
   "metadata": {},
   "outputs": [
    {
     "data": {
      "text/plain": [
       "Text(0.5,1,'年龄与好坏客户数分布图')"
      ]
     },
     "execution_count": 266,
     "metadata": {},
     "output_type": "execute_result"
    },
    {
     "data": {
      "image/png": "[encoded data removed]",
      "text/plain": [
       "<Figure size 720x360 with 1 Axes>"
      ]
     },
     "metadata": {
      "needs_background": "light"
     },
     "output_type": "display_data"
    }
   ],
   "source": [
    "ax1=df2[[\"好客户数\",\"坏客户数\"]].plot.bar(figsize=(10,5))\n",
    "ax1.set_xticklabels(df2.index,rotation=15)\n",
    "ax1.set_ylabel(\"客户数\")\n",
    "ax1.set_title(\"年龄与好坏客户数分布图\")\n"
   ]
  },
  {
   "cell_type": "code",
   "execution_count": 267,
   "metadata": {},
   "outputs": [
    {
     "data": {
      "text/plain": [
       "Text(0.5,1,'坏客户占比分布图')"
      ]
     },
     "execution_count": 267,
     "metadata": {},
     "output_type": "execute_result"
    },
    {
     "data": {
      "image/png": "[encoded data removed]",
      "text/plain": [
       "<Figure size 720x360 with 1 Axes>"
      ]
     },
     "metadata": {
      "needs_background": "light"
     },
     "output_type": "display_data"
    }
   ],
   "source": [
    "ax2=df2['坏客户占比'].plot.bar(figsize=(10,5))\n",
    "ax2.set_xticklabels(df2.index,rotation=15)\n",
    "ax2.set_ylabel(\"坏客户占比\")\n",
    "ax2.set_title(\"坏客户占比分布图\")\n"
   ]
  },
  {
   "cell_type": "code",
   "execution_count": 268,
   "metadata": {},
   "outputs": [
    {
     "data": {
      "text/plain": [
       "Text(0.5,1,'坏客户率随年龄的变化趋势图')"
      ]
     },
     "execution_count": 268,
     "metadata": {},
     "output_type": "execute_result"
    },
    {
     "data": {
      "image/png": "[encoded data removed]",
      "text/plain": [
       "<Figure size 720x360 with 1 Axes>"
      ]
     },
     "metadata": {
      "needs_background": "light"
     },
     "output_type": "display_data"
    }
   ],
   "source": [
    "ax11=df2[\"坏客户占比\"].plot(figsize=(10,5))\n",
    "ax11.set_xticklabels([0,20,29,38,47,55,64,72,81,89,98,107])\n",
    "ax11.set_ylabel(\"坏客户率\")\n",
    "ax11.set_title(\"坏客户率随年龄的变化趋势图\")\n",
    "#可以看出随着年龄的增长，坏客户率在降低，其中38~55之间变化幅度最大\n"
   ]
  },
  {
   "cell_type": "code",
   "execution_count": 269,
   "metadata": {},
   "outputs": [
    {
     "data": {
      "image/png": "[encoded data removed]",
      "text/plain": [
       "<Figure size 1080x720 with 2 Axes>"
      ]
     },
     "metadata": {
      "needs_background": "light"
     },
     "output_type": "display_data"
    }
   ],
   "source": [
    "#多变量分析\n",
    "import seaborn as sns\n",
    "corr=df1.corr()\n",
    "xticks = list(corr.index)#x轴标签\n",
    "yticks = list(corr.index)#y轴标签\n",
    "fig=plt.figure(figsize=(15,10))\n",
    "ax1=fig.add_subplot(1,1,1)\n",
    "sns.heatmap(corr, annot=True, cmap=\"rainbow\",ax=ax1,linewidths=.5, annot_kws={'size': 9, 'weight': 'bold', 'color': 'blue'})\n",
    "ax1.set_xticklabels(xticks, rotation=35, fontsize=15)\n",
    "ax1.set_yticklabels(yticks, rotation=0, fontsize=15)\n",
    "plt.show()\n",
    "#可以看到各变量之间的相关性比较小，所以不需要操作，一般相关系数大于0.6可以进行变量剔除。"
   ]
  },
  {
   "cell_type": "code",
   "execution_count": 270,
   "metadata": {},
   "outputs": [],
   "source": [
    "#特征选择\n",
    "cut1=pd.qcut(df1[\"可用额度比值\"],4,labels=False)\n",
    "cut2=pd.qcut(df1[\"年龄\"],8,labels=False)\n",
    "bins3=[-1,0,1,3,5,13]\n",
    "cut3=pd.cut(df1[\"逾期30-59天笔数\"],bins3,labels=False)\n",
    "cut4=pd.qcut(df1[\"负债率\"],3,labels=False)\n",
    "cut5=pd.qcut(df1[\"月收入\"],4,labels=False)\n",
    "cut6=pd.qcut(df1[\"信贷数量\"],4,labels=False)\n",
    "bins7=[-1, 0, 1, 3,5, 20]\n",
    "cut7=pd.cut(df1[\"逾期90天笔数\"],bins7,labels=False)\n",
    "bins8=[-1, 0,1,2, 3, 33]\n",
    "cut8=pd.cut(df1[\"固定资产贷款量\"],bins8,labels=False)\n",
    "bins9=[-1, 0, 1, 3, 12]\n",
    "cut9=pd.cut(df1[\"逾期60-89天笔数\"],bins9,labels=False)\n",
    "bins10=[-1, 0, 1, 2, 3, 5, 21]\n",
    "cut10=pd.cut(df1[\"家属数量\"],bins10,labels=False)\n"
   ]
  },
  {
   "cell_type": "code",
   "execution_count": 271,
   "metadata": {},
   "outputs": [],
   "source": [
    "rate=df1[\"好坏客户\"].sum()/(df1[\"好坏客户\"].count()-df1[\"好坏客户\"].sum())\n",
    "def get_woe_data(cut):\n",
    "    grouped=df1[\"好坏客户\"].groupby(cut,as_index = True).value_counts()\n",
    "    woe=np.log(grouped.unstack().iloc[:,1]/grouped.unstack().iloc[:,0]/rate)\n",
    "    return woe\n",
    "cut1_woe=get_woe_data(cut1)\n",
    "cut2_woe=get_woe_data(cut2)\n",
    "cut3_woe=get_woe_data(cut3)\n",
    "cut4_woe=get_woe_data(cut4)\n",
    "cut5_woe=get_woe_data(cut5)\n",
    "cut6_woe=get_woe_data(cut6)\n",
    "cut7_woe=get_woe_data(cut7)\n",
    "cut8_woe=get_woe_data(cut8)\n",
    "cut9_woe=get_woe_data(cut9)\n",
    "cut10_woe=get_woe_data(cut10)\n",
    "\n"
   ]
  },
  {
   "cell_type": "code",
   "execution_count": 272,
   "metadata": {},
   "outputs": [
    {
     "data": {
      "text/plain": [
       "可用额度比值  好坏客户\n",
       "0       0       34975\n",
       "        1         665\n",
       "1       0       34929\n",
       "        1         711\n",
       "2       0       33959\n",
       "        1        1680\n",
       "3       0       30202\n",
       "        1        5438\n",
       "Name: 好坏客户, dtype: int64"
      ]
     },
     "execution_count": 272,
     "metadata": {},
     "output_type": "execute_result"
    }
   ],
   "source": [
    "grouped=df1[\"好坏客户\"].groupby(cut1,as_index = True).value_counts()\n",
    "grouped"
   ]
  },
  {
   "cell_type": "code",
   "execution_count": 273,
   "metadata": {},
   "outputs": [
    {
     "data": {
      "text/html": [
       "<div>\n",
       "<style scoped>\n",
       "    .dataframe tbody tr th:only-of-type {\n",
       "        vertical-align: middle;\n",
       "    }\n",
       "\n",
       "    .dataframe tbody tr th {\n",
       "        vertical-align: top;\n",
       "    }\n",
       "\n",
       "    .dataframe thead th {\n",
       "        text-align: right;\n",
       "    }\n",
       "</style>\n",
       "<table border=\"1\" class=\"dataframe\">\n",
       "  <thead>\n",
       "    <tr style=\"text-align: right;\">\n",
       "      <th>好坏客户</th>\n",
       "      <th>0</th>\n",
       "      <th>1</th>\n",
       "    </tr>\n",
       "    <tr>\n",
       "      <th>可用额度比值</th>\n",
       "      <th></th>\n",
       "      <th></th>\n",
       "    </tr>\n",
       "  </thead>\n",
       "  <tbody>\n",
       "    <tr>\n",
       "      <th>0</th>\n",
       "      <td>34975</td>\n",
       "      <td>665</td>\n",
       "    </tr>\n",
       "    <tr>\n",
       "      <th>1</th>\n",
       "      <td>34929</td>\n",
       "      <td>711</td>\n",
       "    </tr>\n",
       "    <tr>\n",
       "      <th>2</th>\n",
       "      <td>33959</td>\n",
       "      <td>1680</td>\n",
       "    </tr>\n",
       "    <tr>\n",
       "      <th>3</th>\n",
       "      <td>30202</td>\n",
       "      <td>5438</td>\n",
       "    </tr>\n",
       "  </tbody>\n",
       "</table>\n",
       "</div>"
      ],
      "text/plain": [
       "好坏客户        0     1\n",
       "可用额度比值             \n",
       "0       34975   665\n",
       "1       34929   711\n",
       "2       33959  1680\n",
       "3       30202  5438"
      ]
     },
     "execution_count": 273,
     "metadata": {},
     "output_type": "execute_result"
    }
   ],
   "source": [
    "grouped.unstack()"
   ]
  },
  {
   "cell_type": "code",
   "execution_count": 274,
   "metadata": {},
   "outputs": [
    {
     "data": {
      "text/plain": [
       "<matplotlib.axes._subplots.AxesSubplot at 0x252b71789e8>"
      ]
     },
     "execution_count": 274,
     "metadata": {},
     "output_type": "execute_result"
    },
    {
     "data": {
      "image/png": "[encoded data removed]",
      "text/plain": [
       "<Figure size 432x288 with 1 Axes>"
      ]
     },
     "metadata": {
      "needs_background": "light"
     },
     "output_type": "display_data"
    }
   ],
   "source": [
    "cut1_woe.plot.bar(color='b',alpha=0.3,rot=0)"
   ]
  },
  {
   "cell_type": "code",
   "execution_count": 275,
   "metadata": {},
   "outputs": [
    {
     "data": {
      "text/plain": [
       "<matplotlib.axes._subplots.AxesSubplot at 0x252b67405c0>"
      ]
     },
     "execution_count": 275,
     "metadata": {},
     "output_type": "execute_result"
    },
    {
     "data": {
      "image/png": "[encoded data removed]",
      "text/plain": [
       "<Figure size 432x288 with 1 Axes>"
      ]
     },
     "metadata": {
      "needs_background": "light"
     },
     "output_type": "display_data"
    }
   ],
   "source": [
    "cut2_woe.plot.bar(color='b',alpha=0.3,rot=0)\n",
    "\n",
    "#可以看出woe值已调整到具有单调性"
   ]
  },
  {
   "cell_type": "code",
   "execution_count": 276,
   "metadata": {},
   "outputs": [
    {
     "data": {
      "text/plain": [
       "<matplotlib.axes._subplots.AxesSubplot at 0x252b64781d0>"
      ]
     },
     "execution_count": 276,
     "metadata": {},
     "output_type": "execute_result"
    },
    {
     "data": {
      "image/png": "[encoded data removed]",
      "text/plain": [
       "<Figure size 432x288 with 1 Axes>"
      ]
     },
     "metadata": {
      "needs_background": "light"
     },
     "output_type": "display_data"
    }
   ],
   "source": [
    "cut3_woe.plot.bar(color='b',alpha=0.3,rot=0)"
   ]
  },
  {
   "cell_type": "code",
   "execution_count": 277,
   "metadata": {},
   "outputs": [
    {
     "data": {
      "text/plain": [
       "Text(0,0.5,'IV')"
      ]
     },
     "execution_count": 277,
     "metadata": {},
     "output_type": "execute_result"
    },
    {
     "data": {
      "image/png": "[encoded data removed]",
      "text/plain": [
       "<Figure size 720x360 with 1 Axes>"
      ]
     },
     "metadata": {
      "needs_background": "light"
     },
     "output_type": "display_data"
    }
   ],
   "source": [
    "#IV值计算\n",
    "def get_IV_data(cut,cut_woe):\n",
    "    grouped=df1[\"好坏客户\"].groupby(cut,as_index = True).value_counts()\n",
    "    cut_IV=((grouped.unstack().iloc[:,1]/df1[\"好坏客户\"].sum()-grouped.unstack().iloc[:,0]/(df1[\"好坏客户\"].count()-df1[\"好坏客户\"].sum()))*cut_woe).sum()    \n",
    "    return cut_IV\n",
    "#计算各分组的IV值\n",
    "cut1_IV=get_IV_data(cut1,cut1_woe)\n",
    "cut2_IV=get_IV_data(cut2,cut2_woe)\n",
    "cut3_IV=get_IV_data(cut3,cut3_woe)\n",
    "cut4_IV=get_IV_data(cut4,cut4_woe)\n",
    "cut5_IV=get_IV_data(cut5,cut5_woe)\n",
    "cut6_IV=get_IV_data(cut6,cut6_woe)\n",
    "cut7_IV=get_IV_data(cut7,cut7_woe)\n",
    "cut8_IV=get_IV_data(cut8,cut8_woe)\n",
    "cut9_IV=get_IV_data(cut9,cut9_woe)\n",
    "cut10_IV=get_IV_data(cut10,cut10_woe)\n",
    "IV=pd.DataFrame([cut1_IV,cut2_IV,cut3_IV,cut4_IV,cut5_IV,cut6_IV,cut7_IV,cut8_IV,cut9_IV,cut10_IV],index=['可用额度比值','年龄','逾期30-59天笔数','负债率','月收入','信贷数量','逾期90天笔数','固定资产贷款量','逾期60-89天笔数','家属数量'],columns=['IV'])\n",
    "iv=IV.plot.bar(color='b',alpha=0.3,rot=30,figsize=(10,5),fontsize=(10))\n",
    "iv.set_title('特征变量与IV值分布图',fontsize=(15))\n",
    "iv.set_xlabel('特征变量',fontsize=(15))\n",
    "iv.set_ylabel('IV',fontsize=(15))\n",
    "\n"
   ]
  },
  {
   "cell_type": "code",
   "execution_count": 278,
   "metadata": {},
   "outputs": [
    {
     "data": {
      "text/html": [
       "<div>\n",
       "<style scoped>\n",
       "    .dataframe tbody tr th:only-of-type {\n",
       "        vertical-align: middle;\n",
       "    }\n",
       "\n",
       "    .dataframe tbody tr th {\n",
       "        vertical-align: top;\n",
       "    }\n",
       "\n",
       "    .dataframe thead th {\n",
       "        text-align: right;\n",
       "    }\n",
       "</style>\n",
       "<table border=\"1\" class=\"dataframe\">\n",
       "  <thead>\n",
       "    <tr style=\"text-align: right;\">\n",
       "      <th></th>\n",
       "      <th>IV</th>\n",
       "    </tr>\n",
       "  </thead>\n",
       "  <tbody>\n",
       "    <tr>\n",
       "      <th>可用额度比值</th>\n",
       "      <td>0.867677</td>\n",
       "    </tr>\n",
       "    <tr>\n",
       "      <th>年龄</th>\n",
       "      <td>0.226285</td>\n",
       "    </tr>\n",
       "    <tr>\n",
       "      <th>逾期30-59天笔数</th>\n",
       "      <td>0.638915</td>\n",
       "    </tr>\n",
       "    <tr>\n",
       "      <th>负债率</th>\n",
       "      <td>0.021881</td>\n",
       "    </tr>\n",
       "    <tr>\n",
       "      <th>月收入</th>\n",
       "      <td>0.056417</td>\n",
       "    </tr>\n",
       "    <tr>\n",
       "      <th>信贷数量</th>\n",
       "      <td>0.035331</td>\n",
       "    </tr>\n",
       "    <tr>\n",
       "      <th>逾期90天笔数</th>\n",
       "      <td>0.780782</td>\n",
       "    </tr>\n",
       "    <tr>\n",
       "      <th>固定资产贷款量</th>\n",
       "      <td>0.052406</td>\n",
       "    </tr>\n",
       "    <tr>\n",
       "      <th>逾期60-89天笔数</th>\n",
       "      <td>0.497545</td>\n",
       "    </tr>\n",
       "    <tr>\n",
       "      <th>家属数量</th>\n",
       "      <td>0.033580</td>\n",
       "    </tr>\n",
       "  </tbody>\n",
       "</table>\n",
       "</div>"
      ],
      "text/plain": [
       "                  IV\n",
       "可用额度比值      0.867677\n",
       "年龄          0.226285\n",
       "逾期30-59天笔数  0.638915\n",
       "负债率         0.021881\n",
       "月收入         0.056417\n",
       "信贷数量        0.035331\n",
       "逾期90天笔数     0.780782\n",
       "固定资产贷款量     0.052406\n",
       "逾期60-89天笔数  0.497545\n",
       "家属数量        0.033580"
      ]
     },
     "execution_count": 278,
     "metadata": {},
     "output_type": "execute_result"
    }
   ],
   "source": [
    "IV"
   ]
  },
  {
   "cell_type": "code",
   "execution_count": 279,
   "metadata": {},
   "outputs": [
    {
     "data": {
      "text/html": [
       "<div>\n",
       "<style scoped>\n",
       "    .dataframe tbody tr th:only-of-type {\n",
       "        vertical-align: middle;\n",
       "    }\n",
       "\n",
       "    .dataframe tbody tr th {\n",
       "        vertical-align: top;\n",
       "    }\n",
       "\n",
       "    .dataframe thead th {\n",
       "        text-align: right;\n",
       "    }\n",
       "</style>\n",
       "<table border=\"1\" class=\"dataframe\">\n",
       "  <thead>\n",
       "    <tr style=\"text-align: right;\">\n",
       "      <th></th>\n",
       "      <th>好坏客户</th>\n",
       "      <th>可用额度比值</th>\n",
       "      <th>年龄</th>\n",
       "      <th>逾期30-59天笔数</th>\n",
       "      <th>负债率</th>\n",
       "      <th>月收入</th>\n",
       "      <th>信贷数量</th>\n",
       "      <th>逾期90天笔数</th>\n",
       "      <th>固定资产贷款量</th>\n",
       "      <th>逾期60-89天笔数</th>\n",
       "      <th>家属数量</th>\n",
       "    </tr>\n",
       "  </thead>\n",
       "  <tbody>\n",
       "    <tr>\n",
       "      <th>0</th>\n",
       "      <td>1</td>\n",
       "      <td>-1.203637</td>\n",
       "      <td>0.518166</td>\n",
       "      <td>-0.476517</td>\n",
       "      <td>-0.151014</td>\n",
       "      <td>0.289489</td>\n",
       "      <td>0.222781</td>\n",
       "      <td>-0.345338</td>\n",
       "      <td>0.197418</td>\n",
       "      <td>-0.244603</td>\n",
       "      <td>-0.150675</td>\n",
       "    </tr>\n",
       "    <tr>\n",
       "      <th>1</th>\n",
       "      <td>0</td>\n",
       "      <td>-1.203637</td>\n",
       "      <td>0.518166</td>\n",
       "      <td>-0.476517</td>\n",
       "      <td>-0.151014</td>\n",
       "      <td>0.289489</td>\n",
       "      <td>0.222781</td>\n",
       "      <td>-0.345338</td>\n",
       "      <td>0.197418</td>\n",
       "      <td>-0.244603</td>\n",
       "      <td>-0.150675</td>\n",
       "    </tr>\n",
       "    <tr>\n",
       "      <th>2</th>\n",
       "      <td>0</td>\n",
       "      <td>-1.203637</td>\n",
       "      <td>0.518166</td>\n",
       "      <td>0.899640</td>\n",
       "      <td>-0.151014</td>\n",
       "      <td>0.289489</td>\n",
       "      <td>0.222781</td>\n",
       "      <td>1.990279</td>\n",
       "      <td>0.197418</td>\n",
       "      <td>-0.244603</td>\n",
       "      <td>-0.150675</td>\n",
       "    </tr>\n",
       "    <tr>\n",
       "      <th>3</th>\n",
       "      <td>0</td>\n",
       "      <td>-1.203637</td>\n",
       "      <td>0.518166</td>\n",
       "      <td>-0.476517</td>\n",
       "      <td>-0.151014</td>\n",
       "      <td>0.289489</td>\n",
       "      <td>0.222781</td>\n",
       "      <td>-0.345338</td>\n",
       "      <td>0.197418</td>\n",
       "      <td>-0.244603</td>\n",
       "      <td>-0.150675</td>\n",
       "    </tr>\n",
       "    <tr>\n",
       "      <th>4</th>\n",
       "      <td>0</td>\n",
       "      <td>-1.203637</td>\n",
       "      <td>0.166515</td>\n",
       "      <td>0.899640</td>\n",
       "      <td>-0.151014</td>\n",
       "      <td>0.289489</td>\n",
       "      <td>-0.255957</td>\n",
       "      <td>-0.345338</td>\n",
       "      <td>-0.235787</td>\n",
       "      <td>-0.244603</td>\n",
       "      <td>-0.150675</td>\n",
       "    </tr>\n",
       "  </tbody>\n",
       "</table>\n",
       "</div>"
      ],
      "text/plain": [
       "   好坏客户    可用额度比值        年龄  逾期30-59天笔数       负债率       月收入      信贷数量  \\\n",
       "0     1 -1.203637  0.518166   -0.476517 -0.151014  0.289489  0.222781   \n",
       "1     0 -1.203637  0.518166   -0.476517 -0.151014  0.289489  0.222781   \n",
       "2     0 -1.203637  0.518166    0.899640 -0.151014  0.289489  0.222781   \n",
       "3     0 -1.203637  0.518166   -0.476517 -0.151014  0.289489  0.222781   \n",
       "4     0 -1.203637  0.166515    0.899640 -0.151014  0.289489 -0.255957   \n",
       "\n",
       "    逾期90天笔数   固定资产贷款量  逾期60-89天笔数      家属数量  \n",
       "0 -0.345338  0.197418   -0.244603 -0.150675  \n",
       "1 -0.345338  0.197418   -0.244603 -0.150675  \n",
       "2  1.990279  0.197418   -0.244603 -0.150675  \n",
       "3 -0.345338  0.197418   -0.244603 -0.150675  \n",
       "4 -0.345338 -0.235787   -0.244603 -0.150675  "
      ]
     },
     "execution_count": 279,
     "metadata": {},
     "output_type": "execute_result"
    }
   ],
   "source": [
    "#WOE值替换\n",
    "df_new=pd.DataFrame()#新建df_new存放转换都的数据\n",
    "def replace_data(cut,cut_woe):\n",
    "    a=[]\n",
    "    for i in cut.unique():\n",
    "        a.append(i)\n",
    "        a.sort()\n",
    "        for m in range(len(a)):\n",
    "            cut.replace(a[m],cut_woe.values[m],inplace=True)\n",
    "    return cut\n",
    "df_new[\"好坏客户\"]=df1[\"好坏客户\"]\n",
    "df_new[\"可用额度比值\"]=replace_data(cut1,cut1_woe)\n",
    "df_new[\"年龄\"]=replace_data(cut2,cut2_woe)\n",
    "df_new[\"逾期30-59天笔数\"]=replace_data(cut3,cut3_woe)\n",
    "df_new[\"负债率\"]=replace_data(cut4,cut4_woe)\n",
    "df_new[\"月收入\"]=replace_data(cut5,cut5_woe)\n",
    "df_new[\"信贷数量\"]=replace_data(cut6,cut6_woe)\n",
    "df_new[\"逾期90天笔数\"]=replace_data(cut7,cut7_woe)\n",
    "df_new[\"固定资产贷款量\"]=replace_data(cut8,cut8_woe)\n",
    "df_new[\"逾期60-89天笔数\"]=replace_data(cut9,cut9_woe)\n",
    "df_new[\"家属数量\"]=replace_data(cut10,cut10_woe)\n",
    "df_new.head()\n"
   ]
  },
  {
   "cell_type": "code",
   "execution_count": 280,
   "metadata": {},
   "outputs": [
    {
     "name": "stderr",
     "output_type": "stream",
     "text": [
      "D:\\Users\\lqs\\Anaconda3\\lib\\site-packages\\sklearn\\utils\\validation.py:578: DataConversionWarning: A column-vector y was passed when a 1d array was expected. Please change the shape of y to (n_samples, ), for example using ravel().\n",
      "  y = column_or_1d(y, warn=True)\n"
     ]
    },
    {
     "name": "stdout",
     "output_type": "stream",
     "text": [
      "测试成绩:0.9414398615787505\n"
     ]
    }
   ],
   "source": [
    "from sklearn.linear_model import LogisticRegression\n",
    "from sklearn.model_selection import train_test_split\n",
    "x=df_new.iloc[:,1:]\n",
    "y=df_new.iloc[:,:1]\n",
    "x_train ,x_test,y_train,y_test=train_test_split(x,y,test_size=0.6,random_state=0)\n",
    "model=LogisticRegression()\n",
    "clf=model.fit(x_train,y_train)\n",
    "print('测试成绩:{}'.format(clf.score(x_test,y_test)))"
   ]
  },
  {
   "cell_type": "code",
   "execution_count": 281,
   "metadata": {},
   "outputs": [
    {
     "data": {
      "text/plain": [
       "array([[-3.98076846,  0.74786732,  0.51198519, -0.00484713, -0.02022784,\n",
       "         0.54568818,  0.76249928,  0.31508342,  0.65523171,  0.33313069]])"
      ]
     },
     "execution_count": 281,
     "metadata": {},
     "output_type": "execute_result"
    }
   ],
   "source": [
    "coe=clf.coef_        #特征权值系数，后面转换为打分规则时会用到\n",
    "coe"
   ]
  },
  {
   "cell_type": "code",
   "execution_count": 282,
   "metadata": {},
   "outputs": [
    {
     "data": {
      "text/plain": [
       "array([0, 0, 0, 0, 0], dtype=int64)"
      ]
     },
     "execution_count": 282,
     "metadata": {},
     "output_type": "execute_result"
    }
   ],
   "source": [
    "y_pred=clf.predict(x_test)\n",
    "y_pred[0:5]"
   ]
  },
  {
   "cell_type": "code",
   "execution_count": 283,
   "metadata": {},
   "outputs": [],
   "source": [
    "#模型评估\n",
    "#模型评估主要看AUC和K-S值\n",
    "from sklearn.metrics import roc_curve,auc\n"
   ]
  },
  {
   "cell_type": "code",
   "execution_count": 284,
   "metadata": {},
   "outputs": [
    {
     "data": {
      "image/png": "[encoded data removed]",
      "text/plain": [
       "<Figure size 432x288 with 1 Axes>"
      ]
     },
     "metadata": {
      "needs_background": "light"
     },
     "output_type": "display_data"
    }
   ],
   "source": [
    "fpr,tpr,threshold=roc_curve(y_test,y_pred)\n",
    "roc_auc=auc(fpr,tpr)\n",
    "plt.plot(fpr,tpr,color='darkorange',label='ROC curve(area=%0.2f)'%roc_auc)\n",
    "plt.plot([0,1],[0,1],color='navy',linestyle='--')\n",
    "plt.xlim([0.0,1.0])\n",
    "plt.ylim([0.0,1.0])\n",
    "plt.xlabel('False Positive Rate')\n",
    "plt.ylabel('True Positive Rate ')\n",
    "plt.title('ROC_curve')\n",
    "plt.legend(loc='lower right')\n",
    "plt.show()"
   ]
  },
  {
   "cell_type": "code",
   "execution_count": 285,
   "metadata": {},
   "outputs": [
    {
     "data": {
      "text/plain": [
       "0.5628380013210068"
      ]
     },
     "execution_count": 285,
     "metadata": {},
     "output_type": "execute_result"
    }
   ],
   "source": [
    "roc_auc"
   ]
  },
  {
   "cell_type": "code",
   "execution_count": 286,
   "metadata": {},
   "outputs": [
    {
     "data": {
      "image/png": "[encoded data removed]",
      "text/plain": [
       "<Figure size 432x288 with 1 Axes>"
      ]
     },
     "metadata": {
      "needs_background": "light"
     },
     "output_type": "display_data"
    },
    {
     "data": {
      "text/plain": [
       "<Figure size 1440x1440 with 0 Axes>"
      ]
     },
     "metadata": {},
     "output_type": "display_data"
    }
   ],
   "source": [
    "fig, ax = plt.subplots()\n",
    "ax.plot(1 - threshold, tpr, label='tpr') # ks曲线要按照预测概率降序排列，所以需要1-threshold镜像\n",
    "ax.plot(1 - threshold, fpr, label='fpr')\n",
    "ax.plot(1 - threshold, tpr-fpr,label='KS')\n",
    "plt.xlabel('score')\n",
    "plt.title('KS Curve')\n",
    "plt.ylim([0.0, 1.0])\n",
    "plt.figure(figsize=(20,20))\n",
    "legend = ax.legend(loc='upper left')\n",
    "plt.show()\n"
   ]
  },
  {
   "cell_type": "code",
   "execution_count": 287,
   "metadata": {},
   "outputs": [
    {
     "data": {
      "text/plain": [
       "0.12567600264201365"
      ]
     },
     "execution_count": 287,
     "metadata": {},
     "output_type": "execute_result"
    }
   ],
   "source": [
    "max(tpr-fpr)"
   ]
  },
  {
   "cell_type": "code",
   "execution_count": null,
   "metadata": {},
   "outputs": [],
   "source": []
  },
  {
   "cell_type": "code",
   "execution_count": null,
   "metadata": {},
   "outputs": [],
   "source": [
    "\n"
   ]
  },
  {
   "cell_type": "code",
   "execution_count": 288,
   "metadata": {},
   "outputs": [
    {
     "name": "stdout",
     "output_type": "stream",
     "text": [
      "可用额度比值对应的分数:[138.0, 130.0, 28.0, -120.0]\n",
      "年龄对应的分数:[11.0, 7.0, 5.0, 4.0, -1.0, -9.0, -18.0, -22.0]\n",
      "逾期30-59天笔数对应的分数:[-7.0, 13.0, 25.0, 35.0, 39.0]\n",
      "负债率对应的分数:[0.0, 0.0, -0.0]\n",
      "月收入对应的分数:[-0.0, -0.0, 0.0, 0.0]\n",
      "信贷数量对应的分数:[4.0, -4.0, -2.0, 1.0]\n",
      "逾期90天笔数对应的分数:[-8.0, 44.0, 61.0, 72.0, 73.0]\n",
      "固定资产贷款量对应的分数:[2.0, -2.0, -1.0, 1.0, 6.0]\n",
      "逾期60-89天笔数对应的分数:[-5.0, 35.0, 51.0, 56.0]\n",
      "家属数量对应的分数:[-1.0, 1.0, 2.0, 3.0, 4.0, 7.0]\n"
     ]
    }
   ],
   "source": [
    "x1 = get_score(coe[0][0], cut1_woe, factor)\n",
    "x2 = get_score(coe[0][1], cut2_woe, factor)\n",
    "x3 = get_score(coe[0][2], cut3_woe, factor)\n",
    "x4 = get_score(coe[0][3], cut4_woe, factor)\n",
    "x5 = get_score(coe[0][4], cut5_woe, factor)\n",
    "x6 = get_score(coe[0][5], cut6_woe, factor)\n",
    "x7 = get_score(coe[0][6], cut7_woe, factor)\n",
    "x8 = get_score(coe[0][7], cut8_woe, factor)\n",
    "x9 = get_score(coe[0][8], cut9_woe, factor)\n",
    "x10 = get_score(coe[0][9], cut10_woe, factor)\n",
    "print(\"可用额度比值对应的分数:{}\".format(x1))\n",
    "print(\"年龄对应的分数:{}\".format(x2))\n",
    "print(\"逾期30-59天笔数对应的分数:{}\".format(x3))\n",
    "print(\"负债率对应的分数:{}\".format(x4))\n",
    "print(\"月收入对应的分数:{}\".format(x5))\n",
    "print(\"信贷数量对应的分数:{}\".format(x6))\n",
    "print(\"逾期90天笔数对应的分数:{}\".format(x7))\n",
    "print(\"固定资产贷款量对应的分数:{}\".format(x8))\n",
    "print(\"逾期60-89天笔数对应的分数:{}\".format(x9))\n",
    "print(\"家属数量对应的分数:{}\".format(x10))"
   ]
  },
  {
   "cell_type": "code",
   "execution_count": null,
   "metadata": {},
   "outputs": [],
   "source": [
    "\n",
    "#计算用户总分\n",
    "def compute_score(series,bins,score):\n",
    "    list = []\n",
    "    i = 0\n",
    "    while i < len(series):\n",
    "        value = series[i]\n",
    "        j = len(bins) - 2\n",
    "        m = len(bins) - 2\n",
    "        while j >= 0:\n",
    "            if value >= bins[j]:\n",
    "                j = -1\n",
    "            else:\n",
    "                j -= 1\n",
    "                m -= 1\n",
    "        list.append(score[m])\n",
    "        i += 1\n",
    "    return list\n",
    "path2='cs-test.csv'\n",
    "test1 = pd.read_csv(path2)\n",
    "test1['x1'] = pd.Series(compute_score(test1['RevolvingUtilizationOfUnsecuredLines'], bins1, x1))\n",
    "test1['x2'] = pd.Series(compute_score(test1['age'], bins2, x2))\n",
    "test1['x3'] = pd.Series(compute_score(test1['NumberOfTime30-59DaysPastDueNotWorse'], bins3, x3))\n",
    "test1['x4'] = pd.Series(compute_score(test1['DebtRatio'], bins4, x4))\n",
    "test1['x5'] = pd.Series(compute_score(test1['MonthlyIncome'], bins5, x5))\n",
    "test1['x6'] = pd.Series(compute_score(test1['NumberOfOpenCreditLinesAndLoans'], bins6, x6))\n",
    "test1['x7'] = pd.Series(compute_score(test1['NumberOfTimes90DaysLate'], bins7, x7))\n",
    "test1['x8'] = pd.Series(compute_score(test1['NumberRealEstateLoansOrLines'], bins8, x8))\n",
    "test1['x9'] = pd.Series(compute_score(test1['NumberOfTime60-89DaysPastDueNotWorse'], bins9, x9))\n",
    "test1['x10'] = pd.Series(compute_score(test1['NumberOfDependents'], bins10, x10))\n",
    "test1['Score'] = test1['x1']+test1['x2']+test1['x3']+test1['x4']+test1['x5']+test1['x6']+test1['x7']+test1['x8']+test1['x9']+test1['x10']+600\n",
    "test1.to_csv('ScoreData.csv', index=False)"
   ]
  },
  {
   "cell_type": "code",
   "execution_count": null,
   "metadata": {},
   "outputs": [],
   "source": []
  },
  {
   "cell_type": "code",
   "execution_count": null,
   "metadata": {},
   "outputs": [],
   "source": []
  },
  {
   "cell_type": "code",
   "execution_count": null,
   "metadata": {},
   "outputs": [],
   "source": []
  },
  {
   "cell_type": "code",
   "execution_count": null,
   "metadata": {},
   "outputs": [],
   "source": []
  },
  {
   "cell_type": "code",
   "execution_count": null,
   "metadata": {},
   "outputs": [],
   "source": []
  },
  {
   "cell_type": "code",
   "execution_count": null,
   "metadata": {},
   "outputs": [],
   "source": []
  },
  {
   "cell_type": "code",
   "execution_count": null,
   "metadata": {},
   "outputs": [],
   "source": []
  },
  {
   "cell_type": "code",
   "execution_count": null,
   "metadata": {},
   "outputs": [],
   "source": []
  }
 ],
 "metadata": {
  "kernelspec": {
   "display_name": "Python 3",
   "language": "python",
   "name": "python3"
  },
  "language_info": {
   "codemirror_mode": {
    "name": "ipython",
    "version": 3
   },
   "file_extension": ".py",
   "mimetype": "text/x-python",
   "name": "python",
   "nbconvert_exporter": "python",
   "pygments_lexer": "ipython3",
   "version": "3.7.0"
  }
 },
 "nbformat": 4,
 "nbformat_minor": 2
}
